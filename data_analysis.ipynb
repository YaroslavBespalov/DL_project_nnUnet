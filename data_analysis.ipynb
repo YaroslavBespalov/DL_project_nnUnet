{
 "cells": [
  {
   "cell_type": "code",
   "execution_count": 14,
   "metadata": {},
   "outputs": [
    {
     "data": {
      "application/vnd.jupyter.widget-view+json": {
       "model_id": "2aff2acff8314d89b965c1df0d719ae9",
       "version_major": 2,
       "version_minor": 0
      },
      "text/plain": [
       "HBox(children=(IntProgress(value=1, bar_style='info', max=1), HTML(value='')))"
      ]
     },
     "metadata": {},
     "output_type": "display_data"
    },
    {
     "name": "stdout",
     "output_type": "stream",
     "text": [
      "\n"
     ]
    }
   ],
   "source": [
    "import pandas as pd\n",
    "import os\n",
    "import nibabel as nib\n",
    "from tqdm import tqdm_notebook as tqdm\n",
    "import numpy as np\n",
    "import matplotlib.pyplot as plt\n",
    "tqdm().pandas()"
   ]
  },
  {
   "cell_type": "code",
   "execution_count": 2,
   "metadata": {},
   "outputs": [],
   "source": [
    "path = '../../../../user/data/decathlon/Task07_Pancreas'"
   ]
  },
  {
   "cell_type": "code",
   "execution_count": 3,
   "metadata": {},
   "outputs": [],
   "source": [
    "ids = [x for x in os.listdir(os.path.join(path, 'imagesTr')) if x.endswith('.gz') and not x.startswith('._panc')]"
   ]
  },
  {
   "cell_type": "code",
   "execution_count": 31,
   "metadata": {
    "scrolled": false
   },
   "outputs": [
    {
     "name": "stdout",
     "output_type": "stream",
     "text": [
      "3\n"
     ]
    }
   ],
   "source": [
    "print(len(img.shape))"
   ]
  },
  {
   "cell_type": "code",
   "execution_count": 32,
   "metadata": {},
   "outputs": [],
   "source": [
    "for name_ids in ids:\n",
    "    i = os.path.join(path,'imagesTr',name_ids)\n",
    "    img = nib.load(i).get_fdata()\n",
    "    if (len(img.shape)!=3):\n",
    "        print(\"FUUUUUCK\")"
   ]
  },
  {
   "cell_type": "code",
   "execution_count": 33,
   "metadata": {},
   "outputs": [
    {
     "name": "stdout",
     "output_type": "stream",
     "text": [
      "1\n"
     ]
    }
   ],
   "source": [
    "print(1)"
   ]
  },
  {
   "cell_type": "code",
   "execution_count": 43,
   "metadata": {},
   "outputs": [],
   "source": [
    "list_of_density = []\n",
    "for name_ids in ids:\n",
    "    i = os.path.join(path,'labelsTr',name_ids)\n",
    "    img = nib.load(i).get_fdata()\n",
    "    for ch in range(img.shape[2]):\n",
    "        list_of_density.append((img[:,:,ch] != 0).sum()/(img[:,:,ch] > -1).sum())"
   ]
  },
  {
   "cell_type": "code",
   "execution_count": 54,
   "metadata": {},
   "outputs": [
    {
     "name": "stdout",
     "output_type": "stream",
     "text": [
      "281\n"
     ]
    }
   ],
   "source": [
    "density_no_zeros = 0\n",
    "for name_ids in ids:\n",
    "    i = os.path.join(path,'labelsTr',name_ids)\n",
    "    img = nib.load(i).get_fdata()\n",
    "    non_zerooo = (len(img[img > 0]))\n",
    "    number_of_all_elements = (img.shape[0]*img.shape[1]*img.shape[2])\n",
    "    if (non_zerooo != number_of_all_elements):\n",
    "        density_no_zeros += 1\n",
    "print(density_no_zeros)"
   ]
  },
  {
   "cell_type": "code",
   "execution_count": 56,
   "metadata": {},
   "outputs": [],
   "source": [
    "list_of_density_cancer = []\n",
    "list_of_density_organ = []\n",
    "for name_ids in ids:\n",
    "    i = os.path.join(path,'labelsTr',name_ids)\n",
    "    img = nib.load(i).get_fdata()\n",
    "    for ch in range(img.shape[2]):\n",
    "        list_of_density_cancer.append((img[:,:,ch] == 2).sum()/(img[:,:,ch] > -1).sum())\n",
    "        list_of_density_organ.append((img[:,:,ch] == 1).sum()/(img[:,:,ch] > -1).sum())"
   ]
  },
  {
   "cell_type": "code",
   "execution_count": 58,
   "metadata": {},
   "outputs": [
    {
     "name": "stdout",
     "output_type": "stream",
     "text": [
      "0.003000981891347895\n"
     ]
    }
   ],
   "source": [
    "print(sum(list_of_density_cancer)/np.count_nonzero(list_of_density_cancer))"
   ]
  },
  {
   "cell_type": "code",
   "execution_count": 59,
   "metadata": {},
   "outputs": [
    {
     "name": "stdout",
     "output_type": "stream",
     "text": [
      "0.005766103393610275\n"
     ]
    }
   ],
   "source": [
    "print(sum(list_of_density_organ)/np.count_nonzero(list_of_density_organ))"
   ]
  },
  {
   "cell_type": "code",
   "execution_count": 113,
   "metadata": {},
   "outputs": [
    {
     "name": "stdout",
     "output_type": "stream",
     "text": [
      "0.6712451813316367\n"
     ]
    }
   ],
   "source": [
    "print((len(list_of_density_organ) - np.count_nonzero(list_of_density_organ))/len(list_of_density_organ))"
   ]
  },
  {
   "cell_type": "code",
   "execution_count": 51,
   "metadata": {},
   "outputs": [
    {
     "name": "stdout",
     "output_type": "stream",
     "text": [
      "36760\n",
      "23330816\n"
     ]
    }
   ],
   "source": [
    "print(len(img[img > 0]))\n",
    "print(img.shape[0]*img.shape[1]*img.shape[2])\n"
   ]
  },
  {
   "cell_type": "code",
   "execution_count": 44,
   "metadata": {},
   "outputs": [
    {
     "name": "stdout",
     "output_type": "stream",
     "text": [
      "26719\n"
     ]
    }
   ],
   "source": [
    "print(len(list_of_density))"
   ]
  },
  {
   "cell_type": "code",
   "execution_count": 47,
   "metadata": {},
   "outputs": [
    {
     "name": "stdout",
     "output_type": "stream",
     "text": [
      "0.0021805809823654426\n"
     ]
    }
   ],
   "source": [
    "print(sum(list_of_density)/len(list_of_density))"
   ]
  },
  {
   "cell_type": "code",
   "execution_count": 5,
   "metadata": {
    "scrolled": true
   },
   "outputs": [
    {
     "name": "stdout",
     "output_type": "stream",
     "text": [
      "281\n"
     ]
    }
   ],
   "source": [
    "print(len(ids))"
   ]
  },
  {
   "cell_type": "code",
   "execution_count": 6,
   "metadata": {},
   "outputs": [],
   "source": [
    "path_tr_1 = os.path.join(path,'imagesTr',ids[0])"
   ]
  },
  {
   "cell_type": "code",
   "execution_count": 7,
   "metadata": {},
   "outputs": [
    {
     "name": "stdout",
     "output_type": "stream",
     "text": [
      "../../../../user/data/decathlon/Task07_Pancreas/imagesTr/pancreas_316.nii.gz\n"
     ]
    }
   ],
   "source": [
    "print(path_tr_1)"
   ]
  },
  {
   "cell_type": "code",
   "execution_count": 20,
   "metadata": {},
   "outputs": [],
   "source": [
    "path_lb_1 = os.path.join(path,'labelsTr',ids[0])"
   ]
  },
  {
   "cell_type": "code",
   "execution_count": 21,
   "metadata": {},
   "outputs": [],
   "source": [
    "img = nib.load(path_tr_1).get_fdata()"
   ]
  },
  {
   "cell_type": "code",
   "execution_count": 24,
   "metadata": {},
   "outputs": [
    {
     "name": "stdout",
     "output_type": "stream",
     "text": [
      "[[0. 0. 0. ... 0. 0. 0.]\n",
      " [0. 0. 0. ... 0. 0. 0.]\n",
      " [0. 0. 0. ... 0. 0. 0.]\n",
      " ...\n",
      " [0. 0. 0. ... 0. 0. 0.]\n",
      " [0. 0. 0. ... 0. 0. 0.]\n",
      " [0. 0. 0. ... 0. 0. 0.]]\n"
     ]
    }
   ],
   "source": [
    "print(img[:,:,45])"
   ]
  },
  {
   "cell_type": "code",
   "execution_count": 26,
   "metadata": {},
   "outputs": [
    {
     "data": {
      "text/plain": [
       "array([0., 1.])"
      ]
     },
     "execution_count": 26,
     "metadata": {},
     "output_type": "execute_result"
    }
   ],
   "source": [
    "np.unique(img[:,:,45])"
   ]
  },
  {
   "cell_type": "code",
   "execution_count": 28,
   "metadata": {
    "scrolled": true
   },
   "outputs": [
    {
     "name": "stdout",
     "output_type": "stream",
     "text": [
      "754\n"
     ]
    }
   ],
   "source": [
    "print((img[:,:,45] != 0).sum())"
   ]
  },
  {
   "cell_type": "code",
   "execution_count": 29,
   "metadata": {},
   "outputs": [
    {
     "name": "stdout",
     "output_type": "stream",
     "text": [
      "262144\n"
     ]
    }
   ],
   "source": [
    "print((img[:,:,45] > -1).sum())"
   ]
  },
  {
   "cell_type": "code",
   "execution_count": 30,
   "metadata": {},
   "outputs": [
    {
     "name": "stdout",
     "output_type": "stream",
     "text": [
      "0.00287628173828125\n"
     ]
    }
   ],
   "source": [
    "print((img[:,:,45] != 0).sum()/(img[:,:,45] > -1).sum())"
   ]
  },
  {
   "cell_type": "code",
   "execution_count": 67,
   "metadata": {},
   "outputs": [],
   "source": [
    "img = nib.load(path_lb_1).get_fdata()"
   ]
  },
  {
   "cell_type": "code",
   "execution_count": 97,
   "metadata": {},
   "outputs": [
    {
     "data": {
      "text/plain": [
       "<matplotlib.image.AxesImage at 0x7fcf9d9de080>"
      ]
     },
     "execution_count": 97,
     "metadata": {},
     "output_type": "execute_result"
    },
    {
     "data": {
      "image/png": "[encoded data removed]",
      "text/plain": [
       "<Figure size 432x288 with 1 Axes>"
      ]
     },
     "metadata": {
      "needs_background": "light"
     },
     "output_type": "display_data"
    }
   ],
   "source": [
    "def get_rectangular(img, margin=5):\n",
    "    x, y = np.where(img)\n",
    "    x_min = min(x)\n",
    "    x_max = max(x)\n",
    "    y_min = min(y)\n",
    "    y_max = max(y)\n",
    "    return img[x_min-margin:x_max+1+margin, y_min-margin:y_max+1+margin]\n",
    "# plt.figure(figsize=(20, 20))\n",
    "rect = get_rectangular(img[:,:,45])\n",
    "plt.imshow(rect)\n"
   ]
  },
  {
   "cell_type": "code",
   "execution_count": 99,
   "metadata": {},
   "outputs": [],
   "source": [
    "import numpy as np\n",
    "import nibabel as nib\n",
    "import os\n",
    "import matplotlib.pyplot as plt\n",
    "from glob import glob\n",
    "\n",
    "\n",
    "def get_path(data_path='datasets/'):\n",
    "    '''return all paths'''\n",
    "    tasks = [x for x in os.listdir(data_path) if x.startswith('Task')]\n",
    "    path = []\n",
    "    for task in tasks:\n",
    "        # Paths\n",
    "        path_tr = data_path + task + '/imagesTr'\n",
    "        path_tr_label = data_path + task + '/labelsTr'\n",
    "        imglist_tr = glob(path_tr + '/*.gz')\n",
    "        imglist_tr_label = glob(path_tr_label + '/*.gz')\n",
    "\n",
    "        for i in range(len(imglist_tr)):\n",
    "            path.append([imglist_tr[i], imglist_tr_label[i]])\n",
    "    return path\n",
    "\n",
    "\n",
    "\n",
    "def get_list(path):\n",
    "    '''return all samples in list: [[train_sample],sample_mask]]'''\n",
    "    res_list = []\n",
    "    if isinstance (path[0], str):\n",
    "        train_path, label_path = path\n",
    "        img = nib.load(train_path).get_fdata()\n",
    "        img_label = nib.load(label_path).get_fdata()\n",
    "        if (len(img.shape) != 3):\n",
    "        #    for ch in range(img.shape[2]):\n",
    "            for i in range(img.shape[3]):\n",
    "                res_list.append([img[:, :, :, i] , img_label])\n",
    "        else:\n",
    " #           for ch in range(img.shape[2]):\n",
    "            res_list.append([img, img_label])\n",
    "    else:\n",
    "        for train_path, label_path in path:\n",
    "            img = nib.load(train_path).get_fdata()\n",
    "            img_label = nib.load(label_path).get_fdata()\n",
    "            if (len(img.shape) != 3):\n",
    "#                for ch in range(img.shape[2]):\n",
    "                for i in range(img.shape[3]):\n",
    "                    res_list.append([img[:, :, :, i] , img_label])\n",
    "            else:\n",
    "           #     for ch in range(img.shape[2]):\n",
    "                res_list.append([img, img_label])\n",
    "    return res_list\n",
    "\n",
    "#    for i, el in enumerate(res_list):            \n",
    "#        channel = np.random.randint(el[0].shape[2])\n",
    "#        res_list[i] = [el[0][:, :, channel], el[1][:, :, channel]]\n",
    "#    res = []\n",
    "#    for i, el in enumerate(res_list):     \n",
    "#        for i in range(el[0].shape[2]):\n",
    "#            res.append([el[0], el[1], i])\n",
    "#    return res\n",
    "#    return res_list\n"
   ]
  },
  {
   "cell_type": "code",
   "execution_count": 100,
   "metadata": {},
   "outputs": [],
   "source": [
    "path = \"../../../../raid/data/decathlon\"\n",
    "folds = \"./Task07_Pancreas/folds.csv\""
   ]
  },
  {
   "cell_type": "code",
   "execution_count": 107,
   "metadata": {},
   "outputs": [],
   "source": [
    "#from load_function import get_path, get_list\n",
    "import cv2\n",
    "import os\n",
    "import torch\n",
    "import pandas as pd\n",
    "import numpy as np\n",
    "from pathlib import Path\n",
    "from torch.utils.data import Dataset, DataLoader\n",
    "from src.youtrain.factory import DataFactory\n",
    "from src.transforms import test_transform, mix_transform\n",
    "from tqdm import tqdm\n",
    "from albumentations.torch import ToTensor\n",
    "import matplotlib\n",
    "import matplotlib.pyplot as plt\n",
    "from torch.utils.data import Sampler\n",
    "import gc\n",
    "import json\n",
    "\n",
    "class BaseDataset(Dataset):\n",
    "    def __init__(self, path, transform):\n",
    "        self.ids = get_path(path + '/')\n",
    "        self.transform = transform\n",
    "#        print(len(self.ids))\n",
    "\n",
    "    def __len__(self):\n",
    "        return len(self.ids)\n",
    "\n",
    "    def __getitem__(self, index):\n",
    "        raise NotImplementedError\n",
    "\n",
    "\n",
    "class TrainDataset(BaseDataset):\n",
    "    def __init__(self, path, folds, transform):\n",
    "        super().__init__(path, transform)\n",
    "        self.folds = folds\n",
    "        self.ids = [el for el in self.ids if el[0].split('/')[-1] in folds.ImageId.values]\n",
    "\n",
    "    def get_rectangular(self, img):\n",
    "        if not img.sum():\n",
    "            return 0, 32, 0, 32\n",
    "        x, y = np.where(img)\n",
    "        x_min = min(x)\n",
    "        x_max = max(x)\n",
    "        y_min = min(y)\n",
    "        y_max = max(y)\n",
    "        return x_min, x_max, y_min, y_max\n",
    "\n",
    "    def crop(self, img, crop_boundaries, margin=5):\n",
    "        x_min, x_max, y_min, y_max = crop_boundaries\n",
    "        return img[min(0, x_min - margin):max(x_max + 1 + margin, img.shape[0]),\n",
    "                   min(0, y_min - margin):max(y_max + 1 + margin, img.shape[0])]\n",
    "\n",
    "    def __getitem__(self, index):\n",
    "        name = self.folds.iloc[index].ImageId\n",
    "        slice = self.folds.iloc[index].ch_number\n",
    "        name = [el for el in self.ids if el[0].split('/')[-1] in name][0]\n",
    "\n",
    "        gl = get_list(name)\n",
    "        image = gl[0][0]\n",
    "        mask = gl[0][1]\n",
    "        image = image[:, :, slice]\n",
    "        mask = mask[:, :, slice]\n",
    "        pancreats_mask = (mask > 0).astype(int)\n",
    "        cancer_mask = (mask == 2).astype(int)\n",
    "        crop_boundaries = self.get_rectangular(pancreats_mask)\n",
    "        image = self.crop(image, crop_boundaries)\n",
    "        mask = self.crop(cancer_mask, crop_boundaries)\n",
    "\n",
    "        # mask = mask[:,:,slice]\n",
    "        # ch1 = (mask == 0).astype(int)\n",
    "        # ch2 = (mask == 1).astype(int)\n",
    "        # ch3 = (mask == 2).astype(int)\n",
    "        # mask = np.stack([ch1, ch2, ch3]).transpose(1, 2, 0)\n",
    "        # print(image.shape, mask.shape)\n",
    "        return self.transform(image=image.reshape(image.shape[0], image.shape[1], 1),\n",
    "                              mask=mask)\n",
    "\n",
    "    def __len__(self):\n",
    "        return len(self.folds)\n",
    "\n",
    "class TestDataset(BaseDataset):\n",
    "    def __init__(self, image_dir, ids, transform):\n",
    "        super().__init__(image_dir, ids, transform)\n",
    "        self.transform = transform\n",
    "        self.ids = ids\n",
    "        self.image_dir = image_dir\n",
    "\n",
    "    def __getitem__(self, index):\n",
    "        name = self.ids[index]\n",
    "        image = cv2.imread(os.path.join(self.image_dir, name))\n",
    "        return self.transform(image=image)['image']\n",
    "\n",
    "\n",
    "class TaskDataFactory(DataFactory):\n",
    "    def __init__(self, params, paths, **kwargs):\n",
    "        super().__init__(params, paths, **kwargs)\n",
    "        self.fold = kwargs['fold']\n",
    "        self._folds = None\n",
    "\n",
    "    @property\n",
    "    def data_path(self):\n",
    "        return Path(self.paths['path'])\n",
    "\n",
    "    def make_transform(self, stage, is_train=False):\n",
    "        if is_train:\n",
    "            if stage['augmentation'] == 'mix_transform':\n",
    "                transform = mix_transform(**self.params['augmentation_params'])\n",
    "            else:\n",
    "                raise KeyError('augmentation does not found')\n",
    "        else:\n",
    "            transform = test_transform(**self.params['augmentation_params'])\n",
    "        return transform\n",
    "\n",
    "    def make_dataset(self, stage, is_train):\n",
    "        transform = self.make_transform(stage, is_train)\n",
    "        folds = self.train_ids if is_train else self.val_ids\n",
    "#        print(self.data_path)\n",
    "        return TrainDataset(\n",
    "            path=str(self.data_path),\n",
    "#            mask_dir=self.data_path / self.paths['train_masks'],\n",
    "            folds=folds,\n",
    "            transform=transform)\n",
    "\n",
    "    def make_loader(self, stage, is_train=False):\n",
    "        dataset = self.make_dataset(stage, is_train)\n",
    "        return DataLoader(\n",
    "            dataset=dataset,\n",
    "            batch_size=self.params['batch_size'],\n",
    "            shuffle=is_train,\n",
    "            drop_last=is_train,\n",
    "            num_workers=self.params['num_workers'],\n",
    "            pin_memory=torch.cuda.is_available(),\n",
    "        )\n",
    "    \n",
    "    @property\n",
    "    def folds(self):\n",
    "        if self._folds is None:\n",
    "            self._folds = pd.read_csv(self.data_path / self.paths['folds'])\n",
    "        return self._folds\n",
    "\n",
    "    @property\n",
    "    def train_ids(self):\n",
    "        return self.folds.loc[self.folds['fold'] != self.fold]\n",
    "\n",
    "    @property\n",
    "    def val_ids(self):\n",
    "        return self.folds.loc[self.folds['fold'] == self.fold]\n"
   ]
  },
  {
   "cell_type": "code",
   "execution_count": 109,
   "metadata": {},
   "outputs": [],
   "source": [
    "ab = TaskDataFactory(path,folds, fold = 0)"
   ]
  },
  {
   "cell_type": "code",
   "execution_count": 110,
   "metadata": {},
   "outputs": [
    {
     "ename": "TypeError",
     "evalue": "'TaskDataFactory' object does not support indexing",
     "output_type": "error",
     "traceback": [
      "\u001b[0;31m---------------------------------------------------------------------------\u001b[0m",
      "\u001b[0;31mTypeError\u001b[0m                                 Traceback (most recent call last)",
      "\u001b[0;32m<ipython-input-110-e5b8256364dc>\u001b[0m in \u001b[0;36m<module>\u001b[0;34m\u001b[0m\n\u001b[0;32m----> 1\u001b[0;31m \u001b[0mab\u001b[0m\u001b[0;34m[\u001b[0m\u001b[0;36m0\u001b[0m\u001b[0;34m]\u001b[0m\u001b[0;34m\u001b[0m\u001b[0;34m\u001b[0m\u001b[0m\n\u001b[0m",
      "\u001b[0;31mTypeError\u001b[0m: 'TaskDataFactory' object does not support indexing"
     ]
    }
   ],
   "source": [
    "bc = ab.make_dataset"
   ]
  },
  {
   "cell_type": "code",
   "execution_count": 83,
   "metadata": {},
   "outputs": [
    {
     "data": {
      "text/plain": [
       "(246, 277, 272, 308)"
      ]
     },
     "execution_count": 83,
     "metadata": {},
     "output_type": "execute_result"
    }
   ],
   "source": [
    "get_rectangular(img[:,:,45])"
   ]
  },
  {
   "cell_type": "code",
   "execution_count": 81,
   "metadata": {},
   "outputs": [
    {
     "data": {
      "text/plain": [
       "array([[[0., 0., 0., ..., 0., 0., 0.],\n",
       "        [0., 0., 0., ..., 0., 0., 0.],\n",
       "        [0., 0., 0., ..., 0., 0., 0.],\n",
       "        ...,\n",
       "        [0., 0., 0., ..., 0., 0., 0.],\n",
       "        [0., 0., 0., ..., 0., 0., 0.],\n",
       "        [0., 0., 0., ..., 0., 0., 0.]],\n",
       "\n",
       "       [[0., 0., 0., ..., 0., 0., 0.],\n",
       "        [0., 0., 0., ..., 0., 0., 0.],\n",
       "        [0., 0., 0., ..., 0., 0., 0.],\n",
       "        ...,\n",
       "        [0., 0., 0., ..., 0., 0., 0.],\n",
       "        [0., 0., 0., ..., 0., 0., 0.],\n",
       "        [0., 0., 0., ..., 0., 0., 0.]],\n",
       "\n",
       "       [[0., 0., 0., ..., 0., 0., 0.],\n",
       "        [0., 0., 0., ..., 0., 0., 0.],\n",
       "        [0., 0., 0., ..., 0., 0., 0.],\n",
       "        ...,\n",
       "        [0., 0., 0., ..., 0., 0., 0.],\n",
       "        [0., 0., 0., ..., 0., 0., 0.],\n",
       "        [0., 0., 0., ..., 0., 0., 0.]],\n",
       "\n",
       "       ...,\n",
       "\n",
       "       [[0., 0., 0., ..., 0., 0., 0.],\n",
       "        [0., 0., 0., ..., 0., 0., 0.],\n",
       "        [0., 0., 0., ..., 0., 0., 0.],\n",
       "        ...,\n",
       "        [0., 0., 0., ..., 0., 0., 0.],\n",
       "        [0., 0., 0., ..., 0., 0., 0.],\n",
       "        [0., 0., 0., ..., 0., 0., 0.]],\n",
       "\n",
       "       [[0., 0., 0., ..., 0., 0., 0.],\n",
       "        [0., 0., 0., ..., 0., 0., 0.],\n",
       "        [0., 0., 0., ..., 0., 0., 0.],\n",
       "        ...,\n",
       "        [0., 0., 0., ..., 0., 0., 0.],\n",
       "        [0., 0., 0., ..., 0., 0., 0.],\n",
       "        [0., 0., 0., ..., 0., 0., 0.]],\n",
       "\n",
       "       [[0., 0., 0., ..., 0., 0., 0.],\n",
       "        [0., 0., 0., ..., 0., 0., 0.],\n",
       "        [0., 0., 0., ..., 0., 0., 0.],\n",
       "        ...,\n",
       "        [0., 0., 0., ..., 0., 0., 0.],\n",
       "        [0., 0., 0., ..., 0., 0., 0.],\n",
       "        [0., 0., 0., ..., 0., 0., 0.]]])"
      ]
     },
     "execution_count": 81,
     "metadata": {},
     "output_type": "execute_result"
    }
   ],
   "source": [
    "img[250:, ]"
   ]
  },
  {
   "cell_type": "code",
   "execution_count": 19,
   "metadata": {},
   "outputs": [
    {
     "data": {
      "text/plain": [
       "array([-1024., -1023., -1022., ...,  1127.,  1138.,  1195.])"
      ]
     },
     "execution_count": 19,
     "metadata": {},
     "output_type": "execute_result"
    }
   ],
   "source": [
    "np.unique(img[:,:,45])"
   ]
  },
  {
   "cell_type": "code",
   "execution_count": 15,
   "metadata": {},
   "outputs": [
    {
     "data": {
      "text/plain": [
       "<matplotlib.image.AxesImage at 0x7fcfa30c0128>"
      ]
     },
     "execution_count": 15,
     "metadata": {},
     "output_type": "execute_result"
    },
    {
     "data": {
      "image/png": "[encoded data removed]",
      "text/plain": [
       "<Figure size 432x288 with 1 Axes>"
      ]
     },
     "metadata": {
      "needs_background": "light"
     },
     "output_type": "display_data"
    }
   ],
   "source": [
    "plt.imshow(img[:,:,45])"
   ]
  },
  {
   "cell_type": "code",
   "execution_count": 4,
   "metadata": {},
   "outputs": [
    {
     "name": "stdout",
     "output_type": "stream",
     "text": [
      "['pancreas_316.nii.gz', 'pancreas_355.nii.gz', 'pancreas_246.nii.gz', 'pancreas_409.nii.gz', 'pancreas_040.nii.gz', 'pancreas_380.nii.gz', 'pancreas_399.nii.gz', 'pancreas_278.nii.gz', 'pancreas_289.nii.gz', 'pancreas_225.nii.gz', 'pancreas_066.nii.gz', 'pancreas_181.nii.gz', 'pancreas_267.nii.gz', 'pancreas_310.nii.gz', 'pancreas_344.nii.gz', 'pancreas_419.nii.gz', 'pancreas_129.nii.gz', 'pancreas_166.nii.gz', 'pancreas_401.nii.gz', 'pancreas_001.nii.gz', 'pancreas_087.nii.gz', 'pancreas_413.nii.gz', 'pancreas_421.nii.gz', 'pancreas_416.nii.gz', 'pancreas_318.nii.gz', 'pancreas_309.nii.gz', 'pancreas_159.nii.gz', 'pancreas_084.nii.gz', 'pancreas_106.nii.gz', 'pancreas_256.nii.gz', 'pancreas_298.nii.gz', 'pancreas_209.nii.gz', 'pancreas_204.nii.gz', 'pancreas_015.nii.gz', 'pancreas_389.nii.gz', 'pancreas_312.nii.gz', 'pancreas_010.nii.gz', 'pancreas_052.nii.gz', 'pancreas_342.nii.gz', 'pancreas_180.nii.gz', 'pancreas_200.nii.gz', 'pancreas_170.nii.gz', 'pancreas_339.nii.gz', 'pancreas_124.nii.gz', 'pancreas_157.nii.gz', 'pancreas_361.nii.gz', 'pancreas_303.nii.gz', 'pancreas_277.nii.gz', 'pancreas_158.nii.gz', 'pancreas_286.nii.gz', 'pancreas_293.nii.gz', 'pancreas_308.nii.gz', 'pancreas_230.nii.gz', 'pancreas_334.nii.gz', 'pancreas_300.nii.gz', 'pancreas_207.nii.gz', 'pancreas_029.nii.gz', 'pancreas_283.nii.gz', 'pancreas_210.nii.gz', 'pancreas_018.nii.gz', 'pancreas_089.nii.gz', 'pancreas_365.nii.gz', 'pancreas_326.nii.gz', 'pancreas_229.nii.gz', 'pancreas_329.nii.gz', 'pancreas_130.nii.gz', 'pancreas_140.nii.gz', 'pancreas_357.nii.gz', 'pancreas_126.nii.gz', 'pancreas_301.nii.gz', 'pancreas_382.nii.gz', 'pancreas_127.nii.gz', 'pancreas_296.nii.gz', 'pancreas_354.nii.gz', 'pancreas_064.nii.gz', 'pancreas_268.nii.gz', 'pancreas_092.nii.gz', 'pancreas_231.nii.gz', 'pancreas_105.nii.gz', 'pancreas_103.nii.gz', 'pancreas_348.nii.gz', 'pancreas_366.nii.gz', 'pancreas_104.nii.gz', 'pancreas_242.nii.gz', 'pancreas_155.nii.gz', 'pancreas_061.nii.gz', 'pancreas_075.nii.gz', 'pancreas_096.nii.gz', 'pancreas_211.nii.gz', 'pancreas_193.nii.gz', 'pancreas_259.nii.gz', 'pancreas_255.nii.gz', 'pancreas_175.nii.gz', 'pancreas_274.nii.gz', 'pancreas_125.nii.gz', 'pancreas_275.nii.gz', 'pancreas_369.nii.gz', 'pancreas_083.nii.gz', 'pancreas_387.nii.gz', 'pancreas_201.nii.gz', 'pancreas_215.nii.gz', 'pancreas_212.nii.gz', 'pancreas_405.nii.gz', 'pancreas_219.nii.gz', 'pancreas_048.nii.gz', 'pancreas_081.nii.gz', 'pancreas_265.nii.gz', 'pancreas_372.nii.gz', 'pancreas_358.nii.gz', 'pancreas_375.nii.gz', 'pancreas_392.nii.gz', 'pancreas_388.nii.gz', 'pancreas_400.nii.gz', 'pancreas_043.nii.gz', 'pancreas_120.nii.gz', 'pancreas_025.nii.gz', 'pancreas_228.nii.gz', 'pancreas_411.nii.gz', 'pancreas_398.nii.gz', 'pancreas_035.nii.gz', 'pancreas_234.nii.gz', 'pancreas_395.nii.gz', 'pancreas_297.nii.gz', 'pancreas_313.nii.gz', 'pancreas_379.nii.gz', 'pancreas_376.nii.gz', 'pancreas_042.nii.gz', 'pancreas_012.nii.gz', 'pancreas_391.nii.gz', 'pancreas_393.nii.gz', 'pancreas_305.nii.gz', 'pancreas_374.nii.gz', 'pancreas_004.nii.gz', 'pancreas_021.nii.gz', 'pancreas_414.nii.gz', 'pancreas_078.nii.gz', 'pancreas_367.nii.gz', 'pancreas_122.nii.gz', 'pancreas_279.nii.gz', 'pancreas_019.nii.gz', 'pancreas_295.nii.gz', 'pancreas_270.nii.gz', 'pancreas_032.nii.gz', 'pancreas_247.nii.gz', 'pancreas_386.nii.gz', 'pancreas_199.nii.gz', 'pancreas_243.nii.gz', 'pancreas_045.nii.gz', 'pancreas_024.nii.gz', 'pancreas_315.nii.gz', 'pancreas_239.nii.gz', 'pancreas_253.nii.gz', 'pancreas_077.nii.gz', 'pancreas_194.nii.gz', 'pancreas_172.nii.gz', 'pancreas_222.nii.gz', 'pancreas_093.nii.gz', 'pancreas_113.nii.gz', 'pancreas_005.nii.gz', 'pancreas_088.nii.gz', 'pancreas_276.nii.gz', 'pancreas_173.nii.gz', 'pancreas_050.nii.gz', 'pancreas_336.nii.gz', 'pancreas_235.nii.gz', 'pancreas_098.nii.gz', 'pancreas_224.nii.gz', 'pancreas_285.nii.gz', 'pancreas_114.nii.gz', 'pancreas_377.nii.gz', 'pancreas_069.nii.gz', 'pancreas_244.nii.gz', 'pancreas_086.nii.gz', 'pancreas_046.nii.gz', 'pancreas_290.nii.gz', 'pancreas_049.nii.gz', 'pancreas_360.nii.gz', 'pancreas_343.nii.gz', 'pancreas_412.nii.gz', 'pancreas_261.nii.gz', 'pancreas_037.nii.gz', 'pancreas_214.nii.gz', 'pancreas_119.nii.gz', 'pancreas_266.nii.gz', 'pancreas_258.nii.gz', 'pancreas_186.nii.gz', 'pancreas_378.nii.gz', 'pancreas_333.nii.gz', 'pancreas_325.nii.gz', 'pancreas_135.nii.gz', 'pancreas_148.nii.gz', 'pancreas_328.nii.gz', 'pancreas_415.nii.gz', 'pancreas_350.nii.gz', 'pancreas_101.nii.gz', 'pancreas_236.nii.gz', 'pancreas_320.nii.gz', 'pancreas_292.nii.gz', 'pancreas_346.nii.gz', 'pancreas_323.nii.gz', 'pancreas_191.nii.gz', 'pancreas_269.nii.gz', 'pancreas_364.nii.gz', 'pancreas_056.nii.gz', 'pancreas_321.nii.gz', 'pancreas_404.nii.gz', 'pancreas_218.nii.gz', 'pancreas_241.nii.gz', 'pancreas_111.nii.gz', 'pancreas_280.nii.gz', 'pancreas_006.nii.gz', 'pancreas_254.nii.gz', 'pancreas_109.nii.gz', 'pancreas_362.nii.gz', 'pancreas_356.nii.gz', 'pancreas_074.nii.gz', 'pancreas_299.nii.gz', 'pancreas_294.nii.gz', 'pancreas_110.nii.gz', 'pancreas_183.nii.gz', 'pancreas_227.nii.gz', 'pancreas_196.nii.gz', 'pancreas_203.nii.gz', 'pancreas_137.nii.gz', 'pancreas_149.nii.gz', 'pancreas_402.nii.gz', 'pancreas_051.nii.gz', 'pancreas_179.nii.gz', 'pancreas_028.nii.gz', 'pancreas_138.nii.gz', 'pancreas_169.nii.gz', 'pancreas_165.nii.gz', 'pancreas_041.nii.gz', 'pancreas_100.nii.gz', 'pancreas_345.nii.gz', 'pancreas_055.nii.gz', 'pancreas_304.nii.gz', 'pancreas_327.nii.gz', 'pancreas_071.nii.gz', 'pancreas_197.nii.gz', 'pancreas_099.nii.gz', 'pancreas_330.nii.gz', 'pancreas_406.nii.gz', 'pancreas_091.nii.gz', 'pancreas_198.nii.gz', 'pancreas_117.nii.gz', 'pancreas_351.nii.gz', 'pancreas_182.nii.gz', 'pancreas_410.nii.gz', 'pancreas_102.nii.gz', 'pancreas_385.nii.gz', 'pancreas_067.nii.gz', 'pancreas_160.nii.gz', 'pancreas_287.nii.gz', 'pancreas_226.nii.gz', 'pancreas_302.nii.gz', 'pancreas_178.nii.gz', 'pancreas_262.nii.gz', 'pancreas_058.nii.gz', 'pancreas_291.nii.gz', 'pancreas_213.nii.gz', 'pancreas_070.nii.gz', 'pancreas_311.nii.gz', 'pancreas_187.nii.gz', 'pancreas_145.nii.gz', 'pancreas_217.nii.gz', 'pancreas_284.nii.gz', 'pancreas_331.nii.gz', 'pancreas_080.nii.gz', 'pancreas_370.nii.gz', 'pancreas_249.nii.gz', 'pancreas_147.nii.gz', 'pancreas_264.nii.gz', 'pancreas_095.nii.gz', 'pancreas_107.nii.gz', 'pancreas_016.nii.gz', 'pancreas_167.nii.gz', 'pancreas_094.nii.gz', 'pancreas_418.nii.gz', 'pancreas_131.nii.gz', 'pancreas_347.nii.gz']\n"
     ]
    }
   ],
   "source": [
    "\n",
    "# Paths\n",
    "path_tr = path+'/imagesTr'\n",
    "path_tr_label = path+'/labelsTr'\n",
    "imglist_tr = glob(path_tr+'/*.gz')\n",
    "imglist_tr_label = glob(path_tr_label+'/*.gz')\n",
    "imglist_ts = glob(path_ts+'/*.gz')\n",
    "print('num_train = {}, num_test = {}'.format(len(imglist_tr), len(imglist_ts)))\n",
    "print('Image dimensions:')\n",
    "print('Train:')\n",
    "\n",
    "# Dimensions\n",
    "for img_name in imglist_tr[:5]:\n",
    "    img = nib.load(img_name)\n",
    "    print(img.shape)\n",
    "print('Test:')\n",
    "for img_name in imglist_ts[:5]:\n",
    "    img = nib.load(img_name)\n",
    "    print(img.shape)\n",
    "# Find number of sub labels\n",
    "\n",
    "# Images\n",
    "for i in range(3):\n",
    "    img = nib.load(imglist_tr[0]).get_fdata()\n",
    "    label = nib.load(imglist_tr_label[0]).get_fdata()\n",
    "    print('Image Min-Max values: Image={},{} and label={},{}'.format(img.max(), img.min(), label.max(), label.min()))\n",
    "    print('Number of subclasses = ', int(label.max())+1)\n",
    "    print('third dimension i = {}' .format(i))\n",
    "    if task=='Task05_Prostate':\n",
    "        ax = plt.subplot('131')\n",
    "        ax.imshow(img[:,:,i*5+5,0], cmap='gray')\n",
    "        ax.set_title('Image channel 1')\n",
    "        ax = plt.subplot('132')\n",
    "        ax.imshow(img[:,:,i*5+5,1], cmap='gray')\n",
    "        ax.set_title('Image channel 2')\n",
    "        ax = plt.subplot('133')\n",
    "        ax.imshow(label[:,:,i*5+5], cmap='gray')\n",
    "        ax.set_title('Segmentation Mask')\n",
    "        plt.show()"
   ]
  },
  {
   "cell_type": "code",
   "execution_count": 10,
   "metadata": {},
   "outputs": [],
   "source": [
    "folds = ['pancreas_100.nii.gz']"
   ]
  },
  {
   "cell_type": "code",
   "execution_count": 11,
   "metadata": {},
   "outputs": [],
   "source": [
    "ds = TrainDataset('../', folds, pre_transform(256))"
   ]
  },
  {
   "cell_type": "code",
   "execution_count": 20,
   "metadata": {
    "scrolled": true
   },
   "outputs": [
    {
     "data": {
      "text/plain": [
       "<matplotlib.image.AxesImage at 0x7f299f22cf98>"
      ]
     },
     "execution_count": 20,
     "metadata": {},
     "output_type": "execute_result"
    },
    {
     "data": {
      "image/png": "[encoded data removed]",
      "text/plain": [
       "<Figure size 432x288 with 1 Axes>"
      ]
     },
     "metadata": {
      "needs_background": "light"
     },
     "output_type": "display_data"
    }
   ],
   "source": [
    "plt.imshow(ds[0]['image'].squeeze())"
   ]
  },
  {
   "cell_type": "code",
   "execution_count": 21,
   "metadata": {},
   "outputs": [
    {
     "data": {
      "text/plain": [
       "<matplotlib.image.AxesImage at 0x7f299f21ea20>"
      ]
     },
     "execution_count": 21,
     "metadata": {},
     "output_type": "execute_result"
    },
    {
     "data": {
      "image/png": "[encoded data removed]",
      "text/plain": [
       "<Figure size 432x288 with 1 Axes>"
      ]
     },
     "metadata": {
      "needs_background": "light"
     },
     "output_type": "display_data"
    }
   ],
   "source": [
    "plt.imshow(ds[0]['mask'].squeeze())"
   ]
  },
  {
   "cell_type": "code",
   "execution_count": null,
   "metadata": {},
   "outputs": [],
   "source": [
    "...."
   ]
  }
 ],
 "metadata": {
  "kernelspec": {
   "display_name": "Python 3",
   "language": "python",
   "name": "python3"
  },
  "language_info": {
   "codemirror_mode": {
    "name": "ipython",
    "version": 3
   },
   "file_extension": ".py",
   "mimetype": "text/x-python",
   "name": "python",
   "nbconvert_exporter": "python",
   "pygments_lexer": "ipython3",
   "version": "3.6.7"
  }
 },
 "nbformat": 4,
 "nbformat_minor": 2
}
